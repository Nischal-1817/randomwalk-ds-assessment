{
 "cells": [
  {
   "cell_type": "markdown",
   "metadata": {},
   "source": [
    "## Nischal Pradyoth \n",
    "## CS20B1109"
   ]
  },
  {
   "cell_type": "markdown",
   "metadata": {},
   "source": [
    "## Data Science Assignment\n",
    "\n",
    "### Questions: \n",
    "Q1: How many rows and columns are there in books.csv dataset?\n",
    "\n",
    "Q2: How many books do not have an original title?\n",
    "\n",
    "Q3: How many unique books are present in the dataset ? Evaluate based on the 'book_id' after removing null values in the original_title column.\n",
    "\n",
    "Q4: What is the average rating of all the books in the dataset based on ‘average_rating’?\n",
    "\n",
    "Q5: Find the number of books published in the year ‘2000’ based on the ‘original_publication_year’.\n",
    "\n",
    "Q6: Which book (title) has the maximum number of ratings based on ‘work_ratings_count’.\n",
    "\n",
    "Q7: Bucket the average_rating of books into 11 buckets [0, 0.5, 1.0, 1.5, 2.0, 2.5, 3.0, 3.5, 4.0, 4.5, 5.0] with 0.5 decimal rounding (eg: average_rating 3.0 to 3.49 will fall in bucket 3.0). Plot bar graph to show total number of books in each rating bucket."
   ]
  },
  {
   "cell_type": "code",
   "execution_count": 2,
   "metadata": {},
   "outputs": [],
   "source": [
    "import numpy as np \n",
    "import pandas as pd \n",
    "import matplotlib.pyplot as plt \n"
   ]
  },
  {
   "cell_type": "code",
   "execution_count": 3,
   "metadata": {},
   "outputs": [
    {
     "name": "stdout",
     "output_type": "stream",
     "text": [
      "Number of rows:  399\n",
      "Number of columns are:  24\n"
     ]
    }
   ],
   "source": [
    "## Q1: How many rows and columns are there in books.csv dataset?\n",
    "df = pd.read_csv(\"books.csv\")\n",
    "print(\"Number of rows: \",df.shape[0])\n",
    "print(\"Number of columns are: \",df.shape[1])"
   ]
  },
  {
   "cell_type": "code",
   "execution_count": 4,
   "metadata": {},
   "outputs": [
    {
     "name": "stdout",
     "output_type": "stream",
     "text": [
      "Number of books don't have an original title:  36\n"
     ]
    }
   ],
   "source": [
    "## Q2: How many books do not have an original title?\n",
    "print(\"Number of books don't have an original title: \",df['original_title'].isnull().sum())"
   ]
  },
  {
   "cell_type": "code",
   "execution_count": 5,
   "metadata": {},
   "outputs": [
    {
     "name": "stdout",
     "output_type": "stream",
     "text": [
      "Number of unique books are:  363\n"
     ]
    }
   ],
   "source": [
    "## Q3: How many unique books are present in the dataset ? Evaluate based on the 'book_id' after \n",
    "## removing null values in the original_title column.\n",
    "df_copy=df.copy()\n",
    "df_copy.dropna(subset=['original_title'],inplace=True)\n",
    "print(\"Number of unique books are: \",len(df_copy['book_id'].unique()))\n"
   ]
  },
  {
   "cell_type": "code",
   "execution_count": 6,
   "metadata": {},
   "outputs": [
    {
     "name": "stdout",
     "output_type": "stream",
     "text": [
      "Average rating of all books based on 'average rating' is:  3.9837844611528817\n"
     ]
    }
   ],
   "source": [
    "## Q4: What is the average rating of all the books in the dataset based on ‘average_rating’?\n",
    "print(\"Average rating of all books based on 'average rating' is: \",df['average_rating'].mean())"
   ]
  },
  {
   "cell_type": "code",
   "execution_count": 7,
   "metadata": {},
   "outputs": [
    {
     "name": "stdout",
     "output_type": "stream",
     "text": [
      "Number of books published in the year '2000' are:  8\n"
     ]
    }
   ],
   "source": [
    "## Q5: Find the number of books published in the year ‘2000’ based on the ‘original_publication_year’.\n",
    "print(\"Number of books published in the year '2000' are: \",len(df[df['original_publication_year']==2000]))"
   ]
  },
  {
   "cell_type": "code",
   "execution_count": 8,
   "metadata": {},
   "outputs": [
    {
     "name": "stdout",
     "output_type": "stream",
     "text": [
      "Title of the book with maximum rating is:  The Diary of a Young Girl\n"
     ]
    }
   ],
   "source": [
    "## Q6: Which book (title) has the maximum number of ratings based on ‘work_ratings_count’.\n",
    "print(\"Title of the book with maximum rating is: \",df['title'][df['work_ratings_count'].idxmax()])"
   ]
  },
  {
   "cell_type": "code",
   "execution_count": null,
   "metadata": {},
   "outputs": [],
   "source": [
    "count=df[df['average_rating']>=3.5 & df['average_rating']<4]"
   ]
  },
  {
   "cell_type": "code",
   "execution_count": 45,
   "metadata": {},
   "outputs": [
    {
     "data": {
      "image/png": "[encoded data removed]",
      "text/plain": [
       "<Figure size 432x288 with 1 Axes>"
      ]
     },
     "metadata": {
      "needs_background": "light"
     },
     "output_type": "display_data"
    }
   ],
   "source": [
    "## Q7: Bucket the average_rating of books into 11 buckets [0, 0.5, 1.0, 1.5, 2.0, 2.5, 3.0, 3.5, 4.0, 4.5, 5.0] \n",
    "## with 0.5 decimal rounding (eg: average_rating 3.0 to 3.49 will fall in bucket 3.0). \n",
    "## Plot bar graph to show total number of books in each rating bucket.\n",
    "\n",
    "def custom_round(number):\n",
    "    if number % 1 < 0.5:\n",
    "        return int(number)\n",
    "    elif number % 1 >= 0.5 and number % 1 <1:\n",
    "        return int(number) + 0.5\n",
    "    \n",
    "df['rounded']=df['average_rating'].apply(custom_round)\n",
    "List=df['rounded'].value_counts().sort_index()\n",
    "plt.bar(List.index,List.values,width=0.4)\n",
    "plt.xlabel(\"Average Rating\")\n",
    "plt.ylabel(\"Number of books\")\n",
    "plt.xticks(np.arange(0,5.5,0.5))\n",
    "plt.title(\"Histogram of 'Number of books' column\")\n",
    "plt.show()"
   ]
  },
  {
   "cell_type": "code",
   "execution_count": null,
   "metadata": {},
   "outputs": [],
   "source": []
  }
 ],
 "metadata": {
  "kernelspec": {
   "display_name": "Python 3",
   "language": "python",
   "name": "python3"
  },
  "language_info": {
   "codemirror_mode": {
    "name": "ipython",
    "version": 3
   },
   "file_extension": ".py",
   "mimetype": "text/x-python",
   "name": "python",
   "nbconvert_exporter": "python",
   "pygments_lexer": "ipython3",
   "version": "3.10.1"
  }
 },
 "nbformat": 4,
 "nbformat_minor": 2
}
